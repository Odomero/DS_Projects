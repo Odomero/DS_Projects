{
 "cells": [
  {
   "cell_type": "markdown",
   "metadata": {},
   "source": [
    "# Data Collection on Gender Based Violence"
   ]
  },
  {
   "cell_type": "code",
   "execution_count": 2,
   "metadata": {},
   "outputs": [
    {
     "name": "stdout",
     "output_type": "stream",
     "text": [
      "Collecting tweepy\n",
      "  Downloading tweepy-3.10.0-py2.py3-none-any.whl (30 kB)\n",
      "Collecting unidecode\n",
      "  Downloading Unidecode-1.2.0-py2.py3-none-any.whl (241 kB)\n",
      "Requirement already satisfied: six>=1.10.0 in c:\\users\\mrs omokhafe\\appdata\\roaming\\python\\python38\\site-packages (from tweepy) (1.15.0)\n",
      "Requirement already satisfied: requests[socks]>=2.11.1 in c:\\users\\mrs omokhafe\\anaconda3\\lib\\site-packages (from tweepy) (2.24.0)\n",
      "Collecting requests-oauthlib>=0.7.0\n",
      "  Downloading requests_oauthlib-1.3.0-py2.py3-none-any.whl (23 kB)\n",
      "Requirement already satisfied: certifi>=2017.4.17 in c:\\users\\mrs omokhafe\\anaconda3\\lib\\site-packages (from requests[socks]>=2.11.1->tweepy) (2020.6.20)\n",
      "Requirement already satisfied: idna<3,>=2.5 in c:\\users\\mrs omokhafe\\anaconda3\\lib\\site-packages (from requests[socks]>=2.11.1->tweepy) (2.10)\n",
      "Requirement already satisfied: urllib3!=1.25.0,!=1.25.1,<1.26,>=1.21.1 in c:\\users\\mrs omokhafe\\anaconda3\\lib\\site-packages (from requests[socks]>=2.11.1->tweepy) (1.25.11)\n",
      "Requirement already satisfied: chardet<4,>=3.0.2 in c:\\users\\mrs omokhafe\\anaconda3\\lib\\site-packages (from requests[socks]>=2.11.1->tweepy) (3.0.4)\n",
      "Requirement already satisfied: PySocks!=1.5.7,>=1.5.6; extra == \"socks\" in c:\\users\\mrs omokhafe\\anaconda3\\lib\\site-packages (from requests[socks]>=2.11.1->tweepy) (1.7.1)\n",
      "Collecting oauthlib>=3.0.0\n",
      "  Downloading oauthlib-3.1.0-py2.py3-none-any.whl (147 kB)\n",
      "Installing collected packages: oauthlib, requests-oauthlib, tweepy, unidecode\n",
      "Successfully installed oauthlib-3.1.0 requests-oauthlib-1.3.0 tweepy-3.10.0 unidecode-1.2.0\n"
     ]
    }
   ],
   "source": [
    "# installing python packages needed for data collection from Twitter\n",
    "\n",
    "!pip install tweepy unidecode"
   ]
  },
  {
   "cell_type": "code",
   "execution_count": 1,
   "metadata": {},
   "outputs": [],
   "source": [
    "#import libraries\n",
    "\n",
    "import tweepy \n",
    "from tweepy import OAuthHandler\n",
    "from tweepy.streaming import StreamListener\n",
    "import json\n",
    "from unidecode import unidecode\n",
    "import time\n",
    "import datetime\n",
    "from tqdm import tqdm\n",
    "import pandas as pd\n",
    "import numpy as np"
   ]
  },
  {
   "cell_type": "code",
   "execution_count": 25,
   "metadata": {},
   "outputs": [],
   "source": [
    "# Access keys needed from Twitter Developer's Account\n",
    "\n",
    "consumer_key = 'XXXXXXXXXXXXXXXXXXXXX'\n",
    "consumer_secret = 'XXXXXXXXXXXXXXXXXXXXXXXXXXXXXXXXXXXXXXXXXX'\n",
    "access_key= '##########-XXXXXXXXXXXXXXXXXXXXX'\n",
    "access_secret = 'XXXXXXXXXXXXXXXXXXXXXXXXXXXXXXXXXXXXXXXXXX'"
   ]
  },
  {
   "cell_type": "code",
   "execution_count": 26,
   "metadata": {},
   "outputs": [],
   "source": [
    "#connect to Twitter API\n",
    "\n",
    "auth = tweepy.OAuthHandler(consumer_key, consumer_secret)\n",
    "auth.set_access_token(access_token, access_secret)\n",
    "api = tweepy.API(auth,wait_on_rate_limit=True, wait_on_rate_limit_notify=True)"
   ]
  },
  {
   "cell_type": "code",
   "execution_count": 27,
   "metadata": {},
   "outputs": [],
   "source": [
    "def tweetQue(search_que, limit):\n",
    "    \"\"\"\n",
    "    This function will search a query provided in the twitter and,\n",
    "    retun a list of all tweets that have a query.\n",
    "    \"\"\"\n",
    "    # Create a blank variable\n",
    "    tweets = []\n",
    "    # Iterate through Twitter using Tweepy to find our query with our defined limit\n",
    "    for page in tweepy.Cursor(api.search, q=search_que, lang='en', count=limit, tweet_mode=\"extended\").pages(limit):\n",
    "        for tweet in page:\n",
    "            tweets.append(tweet)\n",
    "    # return tweets\n",
    "    return tweets"
   ]
  },
  {
   "cell_type": "code",
   "execution_count": 28,
   "metadata": {},
   "outputs": [],
   "source": [
    "#coverting tweets to dataframe\n",
    "\n",
    "def tweets_to_data_frame(tweets):\n",
    "    \"\"\"\n",
    "    This function will receive tweets and collect specific data from it such as place, tweet's text,likes\n",
    "    retweets and save them into a pandas data frame.\n",
    "    This function will return a pandas data frame that contains data from twitter.\n",
    "    \"\"\"\n",
    "    df = pd.DataFrame(data=[tweet.full_text.encode('utf-8') for tweet in tweets], columns=[\"Tweets\"])\n",
    "    df[\"id\"] = np.array([tweet.id for tweet in tweets])\n",
    "    df[\"lens\"] = np.array([len(tweet.full_text) for tweet in tweets])\n",
    "    df[\"date\"] = np.array([tweet.created_at for tweet in tweets])\n",
    "    df[\"place\"] = np.array([tweet.place for tweet in tweets])\n",
    "    df[\"coordinateS\"] = np.array([tweet.coordinates for tweet in tweets])\n",
    "    df[\"source\"] = np.array([tweet.source for tweet in tweets])\n",
    "    df[\"likes\"] = np.array([tweet.favorite_count for tweet in tweets])\n",
    "    df[\"retweets\"] = np.array([tweet.retweet_count for tweet in tweets])\n",
    "    df[\"location\"] = np.array([tweet.user.location for tweet in tweets])\n",
    "    return df"
   ]
  },
  {
   "cell_type": "code",
   "execution_count": 23,
   "metadata": {},
   "outputs": [],
   "source": [
    "hashtags = ['#GBV', '#sexism', '#rape', '#sexualassault', '#sexualabuse', '#domesticviolence', '#sexualviolence', \n",
    "            '#harass', '#sexualharassment', '#childmarriage', '#forcedmarriage', '#sextrafficking', '#childtrafficking']"
   ]
  },
  {
   "cell_type": "code",
   "execution_count": 29,
   "metadata": {},
   "outputs": [],
   "source": [
    "hashtag = ['#rape']"
   ]
  },
  {
   "cell_type": "code",
   "execution_count": 13,
   "metadata": {},
   "outputs": [
    {
     "name": "stdout",
     "output_type": "stream",
     "text": [
      "13\n"
     ]
    }
   ],
   "source": [
    "#total keywords in the hashtags list\n",
    "\n",
    "print(len(hashtags))"
   ]
  },
  {
   "cell_type": "code",
   "execution_count": 32,
   "metadata": {},
   "outputs": [],
   "source": [
    "import time"
   ]
  },
  {
   "cell_type": "code",
   "execution_count": 34,
   "metadata": {},
   "outputs": [
    {
     "name": "stderr",
     "output_type": "stream",
     "text": [
      " 31%|█████████████████████████▏                                                        | 4/13 [11:06<24:45, 165.10s/it]"
     ]
    },
    {
     "name": "stdout",
     "output_type": "stream",
     "text": [
      "total_tweets: 763\n"
     ]
    },
    {
     "name": "stderr",
     "output_type": "stream",
     "text": [
      " 62%|██████████████████████████████████████████████████▍                               | 8/13 [21:28<11:13, 134.77s/it]"
     ]
    },
    {
     "name": "stdout",
     "output_type": "stream",
     "text": [
      "total_tweets: 796\n"
     ]
    },
    {
     "name": "stderr",
     "output_type": "stream",
     "text": [
      "\r",
      " 69%|████████████████████████████████████████████████████████▊                         | 9/13 [21:56<06:51, 102.77s/it]"
     ]
    },
    {
     "name": "stdout",
     "output_type": "stream",
     "text": [
      "total_tweets: 1572\n"
     ]
    },
    {
     "name": "stderr",
     "output_type": "stream",
     "text": [
      " 85%|█████████████████████████████████████████████████████████████████████▍            | 11/13 [25:03<03:00, 90.06s/it]"
     ]
    },
    {
     "name": "stdout",
     "output_type": "stream",
     "text": [
      "total_tweets: 1619\n"
     ]
    },
    {
     "name": "stderr",
     "output_type": "stream",
     "text": [
      "\r",
      " 92%|███████████████████████████████████████████████████████████████████████████▋      | 12/13 [25:17<01:07, 67.20s/it]"
     ]
    },
    {
     "name": "stdout",
     "output_type": "stream",
     "text": [
      "total_tweets: 2136\n"
     ]
    },
    {
     "name": "stderr",
     "output_type": "stream",
     "text": [
      "100%|█████████████████████████████████████████████████████████████████████████████████| 13/13 [25:29<00:00, 117.62s/it]"
     ]
    },
    {
     "name": "stdout",
     "output_type": "stream",
     "text": [
      "total_tweets: 2436\n"
     ]
    },
    {
     "name": "stderr",
     "output_type": "stream",
     "text": [
      "\n"
     ]
    }
   ],
   "source": [
    "total_tweets = 0\n",
    "\"\"\"\n",
    "The following for loop will collect tweets that have the hashtags\n",
    "mentioned in the list and save the tweets into csv file\n",
    "\"\"\"\n",
    "\n",
    "for n in tqdm(hashtags):\n",
    "    # first we fetch all tweets that have specific hashtag\n",
    "    try:\n",
    "        hash_tweets = tweetQue(search_que=n,limit=5500)\n",
    "        total_tweets += int(len(hash_tweets))\n",
    "        # second we convert our tweets into datarame\n",
    "        df = tweets_to_data_frame(hash_tweets)\n",
    "        #third we save the dataframe into csv file\n",
    "        df.to_csv(\"data_new/{}_tweets.csv\".format(n))\n",
    "        # show total number of tweets collected\n",
    "        print(\"total_tweets: {}\".format(total_tweets))\n",
    "    except tweepy.TweepError:\n",
    "        time.sleep(180)"
   ]
  },
  {
   "cell_type": "code",
   "execution_count": 35,
   "metadata": {},
   "outputs": [],
   "source": [
    "#checking data extracted\n",
    "\n",
    "assault_df = pd.read_csv('data/#childtrafficking_tweets.csv')"
   ]
  },
  {
   "cell_type": "code",
   "execution_count": 36,
   "metadata": {},
   "outputs": [
    {
     "data": {
      "text/html": [
       "<div>\n",
       "<style scoped>\n",
       "    .dataframe tbody tr th:only-of-type {\n",
       "        vertical-align: middle;\n",
       "    }\n",
       "\n",
       "    .dataframe tbody tr th {\n",
       "        vertical-align: top;\n",
       "    }\n",
       "\n",
       "    .dataframe thead th {\n",
       "        text-align: right;\n",
       "    }\n",
       "</style>\n",
       "<table border=\"1\" class=\"dataframe\">\n",
       "  <thead>\n",
       "    <tr style=\"text-align: right;\">\n",
       "      <th></th>\n",
       "      <th>Unnamed: 0</th>\n",
       "      <th>Tweets</th>\n",
       "      <th>id</th>\n",
       "      <th>lens</th>\n",
       "      <th>date</th>\n",
       "      <th>place</th>\n",
       "      <th>coordinateS</th>\n",
       "      <th>lang</th>\n",
       "      <th>source</th>\n",
       "      <th>likes</th>\n",
       "      <th>retweets</th>\n",
       "      <th>location</th>\n",
       "    </tr>\n",
       "  </thead>\n",
       "  <tbody>\n",
       "    <tr>\n",
       "      <th>0</th>\n",
       "      <td>0</td>\n",
       "      <td>b'Though #ChildTrafficking is an issue that\\xe...</td>\n",
       "      <td>1390639308889944075</td>\n",
       "      <td>148</td>\n",
       "      <td>2021-05-07 12:07:02</td>\n",
       "      <td>NaN</td>\n",
       "      <td>NaN</td>\n",
       "      <td>en</td>\n",
       "      <td>Twitter Web App</td>\n",
       "      <td>0</td>\n",
       "      <td>0</td>\n",
       "      <td>India</td>\n",
       "    </tr>\n",
       "    <tr>\n",
       "      <th>1</th>\n",
       "      <td>1</td>\n",
       "      <td>b'When children and teens under 18 are recruit...</td>\n",
       "      <td>1390637754111889408</td>\n",
       "      <td>279</td>\n",
       "      <td>2021-05-07 12:00:52</td>\n",
       "      <td>NaN</td>\n",
       "      <td>NaN</td>\n",
       "      <td>en</td>\n",
       "      <td>Buffer</td>\n",
       "      <td>0</td>\n",
       "      <td>0</td>\n",
       "      <td>Houston, TX</td>\n",
       "    </tr>\n",
       "    <tr>\n",
       "      <th>2</th>\n",
       "      <td>2</td>\n",
       "      <td>b\"We want to see #Trafficked included as an #A...</td>\n",
       "      <td>1390636685063598084</td>\n",
       "      <td>279</td>\n",
       "      <td>2021-05-07 11:56:37</td>\n",
       "      <td>NaN</td>\n",
       "      <td>NaN</td>\n",
       "      <td>en</td>\n",
       "      <td>Twitter for Android</td>\n",
       "      <td>2</td>\n",
       "      <td>0</td>\n",
       "      <td>UK</td>\n",
       "    </tr>\n",
       "    <tr>\n",
       "      <th>3</th>\n",
       "      <td>3</td>\n",
       "      <td>b'RT @arijitbarman76: When @DevinaET 1st wrote...</td>\n",
       "      <td>1390627117537267719</td>\n",
       "      <td>140</td>\n",
       "      <td>2021-05-07 11:18:36</td>\n",
       "      <td>NaN</td>\n",
       "      <td>NaN</td>\n",
       "      <td>en</td>\n",
       "      <td>Flamingo for Android</td>\n",
       "      <td>0</td>\n",
       "      <td>5</td>\n",
       "      <td>NaN</td>\n",
       "    </tr>\n",
       "    <tr>\n",
       "      <th>4</th>\n",
       "      <td>4</td>\n",
       "      <td>b'RT @priti_patkar: Traffickers prey children ...</td>\n",
       "      <td>1390626690359988224</td>\n",
       "      <td>140</td>\n",
       "      <td>2021-05-07 11:16:54</td>\n",
       "      <td>NaN</td>\n",
       "      <td>NaN</td>\n",
       "      <td>en</td>\n",
       "      <td>Twitter for Android</td>\n",
       "      <td>0</td>\n",
       "      <td>6</td>\n",
       "      <td>NaN</td>\n",
       "    </tr>\n",
       "  </tbody>\n",
       "</table>\n",
       "</div>"
      ],
      "text/plain": [
       "   Unnamed: 0                                             Tweets  \\\n",
       "0           0  b'Though #ChildTrafficking is an issue that\\xe...   \n",
       "1           1  b'When children and teens under 18 are recruit...   \n",
       "2           2  b\"We want to see #Trafficked included as an #A...   \n",
       "3           3  b'RT @arijitbarman76: When @DevinaET 1st wrote...   \n",
       "4           4  b'RT @priti_patkar: Traffickers prey children ...   \n",
       "\n",
       "                    id  lens                 date  place  coordinateS lang  \\\n",
       "0  1390639308889944075   148  2021-05-07 12:07:02    NaN          NaN   en   \n",
       "1  1390637754111889408   279  2021-05-07 12:00:52    NaN          NaN   en   \n",
       "2  1390636685063598084   279  2021-05-07 11:56:37    NaN          NaN   en   \n",
       "3  1390627117537267719   140  2021-05-07 11:18:36    NaN          NaN   en   \n",
       "4  1390626690359988224   140  2021-05-07 11:16:54    NaN          NaN   en   \n",
       "\n",
       "                 source  likes  retweets     location  \n",
       "0       Twitter Web App      0         0        India  \n",
       "1                Buffer      0         0  Houston, TX  \n",
       "2   Twitter for Android      2         0           UK  \n",
       "3  Flamingo for Android      0         5          NaN  \n",
       "4   Twitter for Android      0         6          NaN  "
      ]
     },
     "execution_count": 36,
     "metadata": {},
     "output_type": "execute_result"
    }
   ],
   "source": [
    "assault_df.head()"
   ]
  },
  {
   "cell_type": "code",
   "execution_count": null,
   "metadata": {},
   "outputs": [],
   "source": []
  }
 ],
 "metadata": {
  "kernelspec": {
   "display_name": "Python 3",
   "language": "python",
   "name": "python3"
  },
  "language_info": {
   "codemirror_mode": {
    "name": "ipython",
    "version": 3
   },
   "file_extension": ".py",
   "mimetype": "text/x-python",
   "name": "python",
   "nbconvert_exporter": "python",
   "pygments_lexer": "ipython3",
   "version": "3.8.5"
  },
  "toc": {
   "base_numbering": 1,
   "nav_menu": {},
   "number_sections": true,
   "sideBar": true,
   "skip_h1_title": false,
   "title_cell": "Table of Contents",
   "title_sidebar": "Contents",
   "toc_cell": false,
   "toc_position": {},
   "toc_section_display": true,
   "toc_window_display": false
  }
 },
 "nbformat": 4,
 "nbformat_minor": 4
}
